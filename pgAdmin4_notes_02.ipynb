{
 "cells": [
  {
   "cell_type": "code",
   "execution_count": null,
   "id": "1291942d",
   "metadata": {},
   "outputs": [],
   "source": [
    "-- Alter(изменить) Table (you basicaly alter the scheema)\n",
    "-- constraint (ограничение)\n",
    "-- blueprint (проект, план)"
   ]
  },
  {
   "cell_type": "markdown",
   "id": "f19736ad",
   "metadata": {},
   "source": [
    "![constrants](https://raw.githubusercontent.com/n-eaton/pgAdmin_notes/main/images_for_sql_repo/adding_constraints.png)"
   ]
  },
  {
   "cell_type": "markdown",
   "id": "de530f99",
   "metadata": {},
   "source": [
    "### SQL constraints are used to specify rules for the data in a table.\n",
    "\n",
    "### Constraints are used to limit the type of data that can go into a table. This ensures the accuracy and reliability of the data in the table. If there is any violation between the constraint and the data action, the action is aborted.\n",
    "\n",
    "#### Constraints can be column level or table level. Column level constraints apply to a column, and table level constraints apply to the whole table.\n",
    "\n",
    "### The following constraints are commonly used in SQL:\n",
    "\n",
    "###### NOT NULL - Ensures that a column cannot have a NULL value\n",
    "###### UNIQUE - Ensures that all values in a column are different\n",
    "###### PRIMARY KEY - A combination of a NOT NULL and UNIQUE. Uniquely identifies each row in a table\n",
    "###### FOREIGN KEY - Prevents actions that would destroy links between tables\n",
    "###### CHECK - Ensures that the values in a column satisfies a specific condition\n",
    "###### DEFAULT - Sets a default value for a column if no value is specified\n",
    "###### CREATE INDEX - Used to create and retrieve data from the database very quickly"
   ]
  },
  {
   "cell_type": "markdown",
   "id": "ba00c9af",
   "metadata": {},
   "source": []
  },
  {
   "cell_type": "markdown",
   "id": "b4a81977",
   "metadata": {},
   "source": [
    "CRUD is an acronym for the four basic types of SQL commands: Create , Read , Update , Delete . Most applications have some kind of CRUD functionality, and we can assume that every programmer had to deal with CRUD at some point. A CRUD application is one that uses forms to get data into and out of a database.\n",
    "\n",
    "CREATE - POST \\\n",
    "READ - GET \\\n",
    "UPDATE - PUT/ PATCH \\\n",
    "DELETE - DELETE "
   ]
  },
  {
   "cell_type": "code",
   "execution_count": null,
   "id": "24145821",
   "metadata": {},
   "outputs": [],
   "source": [
    "CMS -content management system (WordPres is the largest) "
   ]
  },
  {
   "cell_type": "code",
   "execution_count": null,
   "id": "6649723c",
   "metadata": {},
   "outputs": [],
   "source": [
    "CREATE TABLE movie_genres (\n",
    "\tmoviegenres_id serial PRIMARY KEY,\n",
    "\tmovie_id serial,\n",
    "\tgenre_id serial,\n",
    "\tCONSTRAINT fk_ToMovies_Togenres FOREIGN KEY (movie_id) REFERENCES movies(movie_id),\n",
    "\tCONSTRAINT fk_T0Movies_Togenres FOREIGN KEY (genre_id) REFERENCES genre(genre_id)\n",
    ");\n",
    "\n",
    "where fk_ToMovies_Togenres is just a random name \n",
    "movies - name of the table, where movie_id id a promary key\n",
    "genre -  name of anothe table, where genre_id is a primary key"
   ]
  },
  {
   "cell_type": "markdown",
   "id": "6d49a09b",
   "metadata": {},
   "source": [
    "###### Better Practice:"
   ]
  },
  {
   "cell_type": "code",
   "execution_count": null,
   "id": "2310b2a6",
   "metadata": {},
   "outputs": [],
   "source": [
    "CREATE TABLE movie_genres (\n",
    "\tmovie_id serial,\n",
    "\tgenre_id serial,\n",
    "\tCONSTRAINT fk_ToMovies_Togenres FOREIGN KEY (movie_id) REFERENCES movies(movie_id),\n",
    "\tCONSTRAINT fk_T0Movies_Togenres FOREIGN KEY (genre_id) REFERENCES genre(genre_id)\n",
    ");"
   ]
  }
 ],
 "metadata": {
  "kernelspec": {
   "display_name": "Python 3 (ipykernel)",
   "language": "python",
   "name": "python3"
  },
  "language_info": {
   "codemirror_mode": {
    "name": "ipython",
    "version": 3
   },
   "file_extension": ".py",
   "mimetype": "text/x-python",
   "name": "python",
   "nbconvert_exporter": "python",
   "pygments_lexer": "ipython3",
   "version": "3.8.12"
  }
 },
 "nbformat": 4,
 "nbformat_minor": 5
}

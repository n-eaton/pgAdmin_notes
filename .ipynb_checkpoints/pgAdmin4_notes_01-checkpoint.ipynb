{
 "cells": [
  {
   "cell_type": "markdown",
   "id": "cf509926",
   "metadata": {},
   "source": [
    "#### PRIMARY DATA TYPES:\n",
    "\n",
    "######  BOOLEAN:\n",
    "\n",
    "   -- Either TRUE or FALSE\n",
    "   -- Represented in binary\n",
    "       -  0 and 1, on and off, true or false\n",
    "\n",
    "######  CHARACTER:\n",
    "\n",
    "  -- CHAR(n) with a white spase\n",
    "  -- VARCHAR() \n",
    "  -- CHAR: one character, M/F\n",
    "\n",
    "\n",
    "######  NUMBER:\n",
    "\n",
    "1. Integer (have different ranges)\n",
    "\n",
    "   -- 2 bytes\n",
    "   -- 4 bytes\n",
    "\n",
    "2. Serial numbers\n",
    "\n",
    "   -- Same as Integer\n",
    "   -- Autoincresement\n",
    "\n",
    "3. Floats\n",
    "\n",
    "   -- decimal bumbers to n number of bytes\n",
    "\n",
    "4. Real\n",
    "\n",
    "  -- Double -Precision numbers (8-byte)\n",
    "  -- Decimal numbers\n",
    "\n",
    "5. Numeric/Numeric(p,s)\n",
    "\n",
    "  -- Real number with  p number of didits, s - represents a number after a decimal point\n",
    "\n",
    "\n",
    "###### TEMPORAL\n",
    "\n",
    "  == Date\n",
    "  == Time\n",
    "  == Intervals - difference between two timestamps or temporal data types\n",
    "  == Timestamp\n",
    "  \n",
    "  \n",
    "###### TimeStamp with time zone\n",
    "-----------------------------------------------------------------\n",
    "SQL Constraints  -  are used to specify rules for data in a table.\n",
    "\n",
    " -- PRIMARY KEY,\n",
    " -- NOT NULL,\n",
    " -- UNIQUE"
   ]
  },
  {
   "cell_type": "code",
   "execution_count": null,
   "id": "02d5f948",
   "metadata": {},
   "outputs": [],
   "source": []
  },
  {
   "cell_type": "markdown",
   "id": "69385fcd",
   "metadata": {},
   "source": [
    "###### Create a table in DB"
   ]
  },
  {
   "cell_type": "code",
   "execution_count": null,
   "id": "f5ff21ce",
   "metadata": {},
   "outputs": [],
   "source": [
    " CREATE TABLE \"user\" (\n",
    "\t --column name data_type column_constraint\n",
    "\t id serial PRIMARY KEY,\n",
    "\t first_name VARCHAR(50),\n",
    "\t last_name VARCHAR(50),\n",
    "\t email VARCHAR (70) UNIQUE\n",
    " ); \n",
    " \n",
    "-- delete table: DROP TABLE user; don't forget to refresh \n",
    "\n",
    "-- INSERT INTO table_name(columns)\n",
    "-----values + data\n",
    "\n",
    "INSERT INTO \"user\" (id,first_name,last_name, email)\n",
    "VALUES (1, 'Erich M', 'Remerque','example@mail.com')\n",
    "\n",
    "SELECT * FROM \"user\"\n",
    "\n",
    "INSERT INTO \"user\" (id,first_name,last_name, email)\n",
    "VALUES (2, 'Gabriel G', 'Márquez ','example_1@mail.com')"
   ]
  },
  {
   "cell_type": "markdown",
   "id": "48fc8e80",
   "metadata": {},
   "source": [
    "NOTE! You can generate ERD in PGADMIN (simmilar to MYSQL): \n",
    "--Right click on database name --> generate ERD"
   ]
  },
  {
   "cell_type": "markdown",
   "id": "98fe6c88",
   "metadata": {},
   "source": [
    "![erdexample](https://raw.githubusercontent.com/n-eaton/pgAdmin_notes/main/images_for_sql_repo/generate_erd.png)"
   ]
  },
  {
   "cell_type": "code",
   "execution_count": null,
   "id": "f9cded6a",
   "metadata": {},
   "outputs": [],
   "source": [
    "###### MULTIPLE STATEMENTS\n",
    "\n",
    "\n",
    "INSERT INTO \"user\" (id,first_name,last_name, email)\n",
    "VALUES \n",
    "\t(4, 'User A', 'LastNameA ','example_4@mail.com'),\n",
    "\t(5, 'User B', 'LastNameB ','example_5@mail.com'),\n",
    "\t(6, 'User C', 'LastNameC ','example_6@mail.com'),\n",
    "\t(7, 'User D', 'LastNameD ','example_7@mail.com')\n",
    "RETURNING *;"
   ]
  },
  {
   "cell_type": "markdown",
   "id": "3f17d119",
   "metadata": {},
   "source": [
    "![db_tables](https://raw.githubusercontent.com/n-eaton/pgAdmin_notes/main/images_for_sql_repo/first_table.png)"
   ]
  },
  {
   "cell_type": "code",
   "execution_count": null,
   "id": "52fc9c44",
   "metadata": {},
   "outputs": [],
   "source": [
    "CREATE TABLE \"post\" (\n",
    "\t id serial PRIMARY KEY,\n",
    "\t user_id integer,\n",
    "\t body text,\t\n",
    "\t CONSTRAINT fk_user FOREIGN KEY(id) REFERENCES \"user\"(id)\n",
    " ); "
   ]
  },
  {
   "cell_type": "code",
   "execution_count": null,
   "id": "033a7829",
   "metadata": {},
   "outputs": [],
   "source": [
    "INSERT INTO \"post\"(id,user_id, body)\n",
    "VALUES \n",
    "\t(1, 3, 'This is the first post'),\n",
    "\t(2, 1, 'This is the second post'),\n",
    "\t(3, 3, 'This is the test post for the same user'),\n",
    "\t(4, 2, 'Life is the best thing that has ever been invented')\n",
    "RETURNING * ;"
   ]
  },
  {
   "cell_type": "markdown",
   "id": "a747dd5b",
   "metadata": {},
   "source": [
    "![post](https://raw.githubusercontent.com/n-eaton/pgAdmin_notes/main/images_for_sql_repo/db_test.png)"
   ]
  },
  {
   "cell_type": "markdown",
   "id": "7a4ee66e",
   "metadata": {},
   "source": [
    "![erd](https://raw.githubusercontent.com/n-eaton/pgAdmin_notes/main/images_for_sql_repo/final_erd.png)"
   ]
  },
  {
   "cell_type": "markdown",
   "id": "2b9d1a06",
   "metadata": {},
   "source": [
    "-- SIMPLE TEST\n",
    "\n",
    "SELECT * \n",
    "FROM \"user\"\n",
    "JOIN post ON post.user_id = \"user\".id"
   ]
  },
  {
   "cell_type": "markdown",
   "id": "8c493f04",
   "metadata": {},
   "source": [
    "![test](https://raw.githubusercontent.com/n-eaton/pgAdmin_notes/main/images_for_sql_repo/db_test.png)"
   ]
  },
  {
   "cell_type": "markdown",
   "id": "9759990b",
   "metadata": {},
   "source": [
    "###### Documentation"
   ]
  },
  {
   "cell_type": "markdown",
   "id": "8b3aa412",
   "metadata": {},
   "source": [
    "https://www.postgresql.org/docs/14/sql-createtable.html\n",
    "\n",
    "https://www.postgresqltutorial.com/postgresql-rename-table/"
   ]
  },
  {
   "cell_type": "markdown",
   "id": "58d1fec6",
   "metadata": {},
   "source": [
    "###### UPDATE VS ALTER"
   ]
  },
  {
   "cell_type": "code",
   "execution_count": null,
   "id": "e070ef14",
   "metadata": {},
   "outputs": [],
   "source": [
    "UPDATE changes the data (or info) that already exist inside tables of the database.\n",
    "\n",
    "ALTER changes how tables are functioning. Basically changes rulles for your individual tables"
   ]
  },
  {
   "cell_type": "code",
   "execution_count": null,
   "id": "67c5e22a",
   "metadata": {},
   "outputs": [],
   "source": [
    "\n",
    "-- Updating last name of Remerque to 'Remarque':\n",
    "\n",
    "UPDATE \"user\"\n",
    "SET last_name = 'Remarque' \n",
    "WHERE id = 1;\n",
    "\n",
    "-- Updating a user of the post:\n",
    "    \n",
    "UPDATE post \n",
    "SET user_id =2\n",
    "WHERE id = 1"
   ]
  },
  {
   "cell_type": "markdown",
   "id": "0ab70c0d",
   "metadata": {},
   "source": [
    "![test](https://raw.githubusercontent.com/n-eaton/pgAdmin_notes/main/images_for_sql_repo/updating_data.png)"
   ]
  },
  {
   "cell_type": "markdown",
   "id": "36b09033",
   "metadata": {},
   "source": [
    "### BE AWARE\n",
    "\n",
    "###### ON HOW AND WHAT YOU UPDATING"
   ]
  },
  {
   "cell_type": "markdown",
   "id": "fcfd5a9d",
   "metadata": {},
   "source": [
    "![beaware01](https://raw.githubusercontent.com/n-eaton/pgAdmin_notes/main/images_for_sql_repo/be_aware_01.png)"
   ]
  },
  {
   "cell_type": "markdown",
   "id": "ba13c67f",
   "metadata": {},
   "source": [
    "### best practice is to create a copy of a table!!! Instead of see the following img "
   ]
  },
  {
   "cell_type": "markdown",
   "id": "6572fc93",
   "metadata": {},
   "source": [
    "![beaware02](https://raw.githubusercontent.com/n-eaton/pgAdmin_notes/main/images_for_sql_repo/be_aware_02.png)"
   ]
  },
  {
   "cell_type": "code",
   "execution_count": null,
   "id": "1aa62a86",
   "metadata": {},
   "outputs": [],
   "source": [
    "UPDATE website\n",
    "SET title ='Google'\n",
    "WHERE url = 'www.google.com'"
   ]
  }
 ],
 "metadata": {
  "kernelspec": {
   "display_name": "Python 3 (ipykernel)",
   "language": "python",
   "name": "python3"
  },
  "language_info": {
   "codemirror_mode": {
    "name": "ipython",
    "version": 3
   },
   "file_extension": ".py",
   "mimetype": "text/x-python",
   "name": "python",
   "nbconvert_exporter": "python",
   "pygments_lexer": "ipython3",
   "version": "3.8.12"
  }
 },
 "nbformat": 4,
 "nbformat_minor": 5
}
